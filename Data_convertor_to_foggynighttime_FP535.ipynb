{
  "nbformat": 4,
  "nbformat_minor": 0,
  "metadata": {
    "colab": {
      "provenance": []
    },
    "kernelspec": {
      "name": "python3",
      "display_name": "Python 3"
    },
    "language_info": {
      "name": "python"
    }
  },
  "cells": [
    {
      "cell_type": "code",
      "execution_count": 14,
      "metadata": {
        "colab": {
          "base_uri": "https://localhost:8080/"
        },
        "id": "-3D5BNxp9Ssq",
        "outputId": "49d7608b-dcf7-44aa-a099-d8fd82ba339d"
      },
      "outputs": [
        {
          "output_type": "stream",
          "name": "stdout",
          "text": [
            "Drive already mounted at /content/drive; to attempt to forcibly remount, call drive.mount(\"/content/drive\", force_remount=True).\n"
          ]
        }
      ],
      "source": [
        "from google.colab import drive\n",
        "drive.mount('/content/drive')\n"
      ]
    },
    {
      "cell_type": "code",
      "source": [
        "import cv2\n",
        "import os\n",
        "import numpy as np\n",
        "\n",
        "def apply_foggy_filter(image_path, output_path, intensity=0.7,droplet_intensity=0.05, droplet_size=(10, 10), nighttime_intensity=0.35):\n",
        "    # Read the image\n",
        "    image = cv2.imread(image_path)\n",
        "\n",
        "    nighttime_image = nighttime_intensity * image.astype(np.float32)\n",
        "\n",
        "    # Generate fog layer\n",
        "    fog_layer = np.ones_like(image, dtype=np.float32) * 255  # White fog\n",
        "    fog_layer = (1 - intensity) * nighttime_image + intensity * fog_layer\n",
        "\n",
        "\n",
        "\n",
        "    # droplets = np.random.rand(*image.shape[:2]) < droplet_intensity\n",
        "    # droplet_values = np.random.randint(200, 256, (np.sum(droplets), 3))  # Random intensity for droplets in all channels\n",
        "    # fog_layer[droplets] = droplet_values\n",
        "\n",
        "    # Clip values to ensure they are within the valid range\n",
        "    fog_layer = np.clip(fog_layer, 0, 255).astype(np.uint8)\n",
        "\n",
        "    # Blend the image and fog layer\n",
        "    # foggy_image = cv2.addWeighted(image, 1 - intensity, fog_layer, intensity, 0)\n",
        "    nighttime_foggy_image = cv2.addWeighted(nighttime_image.astype(np.uint8), 1 - intensity, fog_layer.astype(np.uint8), intensity, 0)\n",
        "\n",
        "    # Save the foggy image\n",
        "    cv2.imwrite(output_path, nighttime_foggy_image)\n",
        "\n",
        "# Set the paths for input and output directories\n",
        "input_dir = '/content/drive/MyDrive/FP 535/Data/training/image_2'\n",
        "output_dir = '/content/drive/MyDrive/FP 535/Nighttime/image_2'\n",
        "\n",
        "# Create output directory if it doesn't exist\n",
        "os.makedirs(output_dir, exist_ok=True)\n",
        "\n",
        "# Process each image in the input directory\n",
        "for filename in os.listdir(input_dir):\n",
        "    if filename.endswith(\".png\"):  # Assuming images are in PNG format\n",
        "        input_image_path = os.path.join(input_dir, filename)\n",
        "        output_image_path = os.path.join(output_dir, filename)\n",
        "        apply_foggy_filter(input_image_path, output_image_path)\n",
        "\n"
      ],
      "metadata": {
        "id": "G6VOpfeK9TmB"
      },
      "execution_count": 24,
      "outputs": []
    },
    {
      "cell_type": "code",
      "source": [
        "import cv2\n",
        "import os\n",
        "import numpy as np\n",
        "\n",
        "def apply_foggy_filter(image_path, output_path, intensity=0.7, nighttime_intensity=0.35, contrast_factor=0.6):\n",
        "    # Read the image\n",
        "    image = cv2.imread(image_path)\n",
        "\n",
        "    # Simulate nighttime conditions\n",
        "    nighttime_image = nighttime_intensity * image.astype(np.float32)\n",
        "\n",
        "    # Generate fog layer\n",
        "    fog_layer = np.ones_like(image, dtype=np.float32) * 255  # White fog\n",
        "    fog_layer = (1 - intensity) * nighttime_image + intensity * fog_layer\n",
        "\n",
        "    # Adjust contrast\n",
        "    contrast_adjusted = cv2.convertScaleAbs(fog_layer, alpha=contrast_factor, beta=0)\n",
        "\n",
        "    # Clip values to ensure they are within the valid range\n",
        "    contrast_adjusted = np.clip(contrast_adjusted, 0, 255).astype(np.uint8)\n",
        "\n",
        "    nighttime_foggy_image = cv2.addWeighted(nighttime_image.astype(np.uint8), 1 - intensity, contrast_adjusted, intensity, 0)\n",
        "\n",
        "    # Save the foggy image\n",
        "    cv2.imwrite(output_path, nighttime_foggy_image)\n",
        "\n",
        "# Set the paths for input and output directories\n",
        "input_dir = '/content/drive/MyDrive/FP 535/Data/training/image_2'\n",
        "output_dir = '/content/drive/MyDrive/FP 535/Nighttime/image_2'\n",
        "\n",
        "# Create output directory if it doesn't exist\n",
        "os.makedirs(output_dir, exist_ok=True)\n",
        "\n",
        "# Process each image in the input directory\n",
        "for filename in os.listdir(input_dir):\n",
        "    if filename.endswith(\".png\"):  # Assuming images are in PNG format\n",
        "        input_image_path = os.path.join(input_dir, filename)\n",
        "        output_image_path = os.path.join(output_dir, filename)\n",
        "        apply_foggy_filter(input_image_path, output_image_path)\n"
      ],
      "metadata": {
        "id": "IYdPFWca30Co"
      },
      "execution_count": 28,
      "outputs": []
    }
  ]
}